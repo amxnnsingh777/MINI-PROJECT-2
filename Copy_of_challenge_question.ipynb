{
  "nbformat": 4,
  "nbformat_minor": 0,
  "metadata": {
    "colab": {
      "provenance": [],
      "include_colab_link": true
    },
    "kernelspec": {
      "name": "python3",
      "display_name": "Python 3"
    },
    "language_info": {
      "name": "python"
    }
  },
  "cells": [
    {
      "cell_type": "markdown",
      "metadata": {
        "id": "view-in-github",
        "colab_type": "text"
      },
      "source": [
        "<a href=\"https://colab.research.google.com/github/amxnnsingh777/MINI-PROJECT-2/blob/main/Copy_of_challenge_question.ipynb\" target=\"_parent\"><img src=\"https://colab.research.google.com/assets/colab-badge.svg\" alt=\"Open In Colab\"/></a>"
      ]
    },
    {
      "cell_type": "code",
      "execution_count": null,
      "metadata": {
        "colab": {
          "base_uri": "https://localhost:8080/"
        },
        "id": "41rlf2tClI-R",
        "outputId": "b0ad4f5c-92d4-4103-acde-35e232314590"
      },
      "outputs": [
        {
          "output_type": "stream",
          "name": "stdout",
          "text": [
            "Original List: ['Ram', 1, 'Shyam', 2, 'Aman', 3]\n",
            "Sorted List: ['Aman', 'Ram', 'Shyam', 1, 2, 3]\n"
          ]
        }
      ],
      "source": [
        "L = [\"Ram\", 1, \"Shyam\", 2, \"Aman\", 3]\n",
        "print(\"Original List:\", L)\n",
        "\n",
        "L1 = []  # For strings\n",
        "L2 = []  # For integers\n",
        "\n",
        "# Easy for loop to separate elements\n",
        "for i in L:\n",
        "    if type(i) == str:\n",
        "        L1.append(i)\n",
        "    else:\n",
        "        L2.append(i)\n",
        "\n",
        "# Sort both lists\n",
        "L1.sort()\n",
        "L2.sort()\n",
        "\n",
        "# Combine the sorted lists\n",
        "L = L1 + L2\n",
        "print(\"Sorted List:\", L)\n"
      ]
    }
  ]
}